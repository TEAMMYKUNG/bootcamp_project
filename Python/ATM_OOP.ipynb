{
 "cells":[
  {
   "cell_type":"code",
   "source":[
    "# ATM OOP\n",
    "class ATM():\n",
    "    def __init__(self, name, balance, PIN):\n",
    "        self.name = name\n",
    "        self.balance = balance\n",
    "        self.PIN = PIN\n",
    "    \n",
    "    def deposit(self, money):\n",
    "        self.balance += money\n",
    "        print(\"Deposit Successful\")\n",
    "        print(f\"You've successfully deposited {money} Baht\")\n",
    "        print(f\"New balance: {self.balance} Baht\")\n",
    "\n",
    "    def withdraw(self, money):\n",
    "        if money > self.balance:\n",
    "            print(f\"Your balance: {self.balance} Baht\")\n",
    "            print(\"Your account has insufficient funds for this transaction.\")\n",
    "        else:\n",
    "            self.balance -= money\n",
    "            print(\"Withdrawal Successful\")\n",
    "            print(f\"You've successfully withdrawn {money} Baht\")\n",
    "            print(f\"New balance: {self.balance} Baht\")\n",
    "\n",
    "    def fast_cash(self):\n",
    "        print('\\nPlease select the withdrawal amount')\n",
    "        print(\"(1) 300 Baht\\n(2) 500 Baht\\n(3) 1000 Baht\\n(4) 3000 Baht\\n(5) 5000 Baht\")\n",
    "        num = int(input(\"Enter a number (1-5): \"))\n",
    "        fcash = 0\n",
    "        if num == 1:\n",
    "            fcash = 300\n",
    "            if fcash > self.balance:\n",
    "                print(f\"\\nYour balance: {self.balance} Baht\")\n",
    "                print(\"Your account has insufficient funds for this transaction.\")\n",
    "            else:\n",
    "                self.balance -= fcash\n",
    "                print(\"\\nWithdrawal successful\")\n",
    "                print(f\"You've successfully withdrawn {fcash} Baht\")\n",
    "                print(f\"New balance: {self.balance} Baht\")\n",
    "        elif num == 2:\n",
    "            fcash = 500\n",
    "            if fcash > self.balance:\n",
    "                print(f\"\\nYour balance: {self.balance} Baht\")\n",
    "                print(\"Your account has insufficient funds for this transaction.\")\n",
    "            else:\n",
    "                self.balance -= fcash\n",
    "                print(\"\\nWithdrawal successful\")\n",
    "                print(f\"You've successfully withdrawn {fcash} Baht\")\n",
    "                print(f\"New balance: {self.balance} Baht\")\n",
    "        elif num == 3:\n",
    "            fcash = 1000\n",
    "            if fcash > self.balance:\n",
    "                print(f\"\\nYour balance: {self.balance} Baht\")\n",
    "                print(\"Your account has insufficient funds for this transaction.\")\n",
    "            else:\n",
    "                self.balance -= fcash\n",
    "                print(\"\\nWithdrawal successful\")\n",
    "                print(f\"You've successfully withdrawn {fcash} Baht\")\n",
    "                print(f\"New balance: {self.balance} Baht\")\n",
    "        elif num == 4:\n",
    "            fcash = 3000\n",
    "            if fcash > self.balance:\n",
    "                print(f\"\\nYour balance: {self.balance} Baht\")\n",
    "                print(\"Your account has insufficient funds for this transaction.\")\n",
    "            else:\n",
    "                self.balance -= fcash\n",
    "                print(\"\\nWithdrawal successful\")\n",
    "                print(f\"You've successfully withdrawn {fcash} Baht\")\n",
    "                print(f\"New balance: {self.balance} Baht\")\n",
    "        elif num == 5:\n",
    "            fcash = 5000\n",
    "            if fcash > self.balance:\n",
    "                print(f\"\\nYour balance: {self.balance} Baht\")\n",
    "                print(\"Your account has insufficient funds for this transaction.\")\n",
    "            else:\n",
    "                self.balance -= fcash\n",
    "                print(\"\\nWithdrawal successful\")\n",
    "                print(f\"You've successfully withdrawn {fcash} Baht\")\n",
    "                print(f\"New balance: {self.balance} Baht\")\n",
    "        else:\n",
    "            print(f'\\n{num} is an invalid number. Please try again...')\n",
    "\n",
    "    def transfer(self, receiver_acc_name, money):\n",
    "        if money > self.balance:\n",
    "            print(f\"Your balance: {self.balance} Baht\")\n",
    "            print(\"Your account has insufficient funds for this transaction.\")\n",
    "        else:\n",
    "            self.balance -= money\n",
    "            print(\"Transfer Successful\")\n",
    "            print(f\"You've successfully transferred {money} Baht to {receiver_acc_name}\")\n",
    "            print(f\"New balance: {self.balance} Baht\")\n",
    "    \n",
    "    def change_PIN(self):\n",
    "        new_PIN = input(\"\\nEnter new PIN: \")\n",
    "        reenter_new_PIN = input(\"Reenter new PIN: \")\n",
    "        if new_PIN == reenter_new_PIN:\n",
    "            self.PIN = new_PIN\n",
    "            print(\"\\nYour PIN has been changed.\")\n",
    "        else:\n",
    "            print(\"\\nNew PIN does not match.\")\n",
    "            print(\"Failed to change PIN.\")"
   ],
   "execution_count":3,
   "outputs":[
    
   ],
   "metadata":{
    "datalore":{
     "node_id":"XLZMUnhKz5nMVQAZrbVm3x",
     "type":"CODE",
     "hide_input_from_viewers":true,
     "hide_output_from_viewers":true
    }
   }
  },
  {
   "cell_type":"code",
   "source":[
    "# OOP inheritance\n",
    "class KBANK(ATM):\n",
    "    def __init__(self, name, balance, PIN):\n",
    "        super().__init__(name, balance, PIN)\n",
    "    \n",
    "    def change_acc_name(self, new_acc_name):\n",
    "        self.name = new_acc_name\n",
    "        print(f\"New account name: {self.name}\")\n",
    "        print(\"Your account name has been changed.\")\n",
    "    \n",
    "    def balance_inquiry(self):\n",
    "        print(f\"\\nAccount: {self.name}, Balance: {self.balance} Baht\")"
   ],
   "execution_count":4,
   "outputs":[
    
   ],
   "metadata":{
    "datalore":{
     "node_id":"jyeSlWRjtXDmpOcsVAGp3P",
     "type":"CODE",
     "hide_input_from_viewers":true,
     "hide_output_from_viewers":true
    }
   }
  },
  {
   "cell_type":"code",
   "source":[
    "# open an account\n",
    "print(\"Welcome to KBANK\")\n",
    "print(\"Open an account\")\n",
    "name = input(\"Please enter your account name: \")\n",
    "balance = int(input(\"Please enter your opening balance: \"))\n",
    "temp_PIN = '123456'\n",
    "customer = KBANK(name, balance, temp_PIN)\n",
    "print(\"\\nSuccessfully open an account\")\n",
    "print(\"Your temporary PIN will be 123456\")"
   ],
   "execution_count":5,
   "outputs":[
    {
     "name":"stdout",
     "text":[
      "Welcome to KBANK\n",
      "Open an account\n",
      "Please enter your account name:  Natthaphong\n",
      "Please enter your opening balance:  500\n",
      "\n",
      "Successfully open an account\n",
      "Your temporary PIN will be 123456\n"
     ],
     "output_type":"stream"
    }
   ],
   "metadata":{
    "datalore":{
     "node_id":"EkUQAkKFsXYvuSr7AU4JQ9",
     "type":"CODE",
     "hide_input_from_viewers":true,
     "hide_output_from_viewers":true
    }
   }
  },
  {
   "cell_type":"code",
   "source":[
    "# at ATM\n",
    "print(\"Welcome!\")\n",
    "print(\"Please insert your card\\n\")\n",
    "\n",
    "# PIN validation -> 3 attempts\n",
    "retries = 3\n",
    "while retries > 0:\n",
    "    entered_PIN = input(\"Please enter PIN: \")\n",
    "    if entered_PIN != customer.PIN:\n",
    "        print(\"Incorrect PIN\")\n",
    "        retries -= 1 \n",
    "        if retries > 0:\n",
    "            print(f\"You have {retries} retries left.\\n\")\n",
    "        else:\n",
    "            print(\"The card will be retained as it considered a stolen card or attempted theft.\")\n",
    "            break\n",
    "    else:\n",
    "        retries = 0\n",
    "        # select transaction\n",
    "        print(\"Please select transaction\")\n",
    "        print(\"(1) Deposit      (2) Withdrawal\\n(3) Fast Cash    (4) Transfer\\n(5) PIN Change   (6) Account Settings\")\n",
    "        tx = int(input(\"Enter the transaction number (1-6): \"))\n",
    "        if tx == 1:\n",
    "            deposit = int(input(\"\\nEnter the amount you wish to deposit: \"))\n",
    "            customer.deposit(deposit)\n",
    "        elif tx == 2:\n",
    "            withdrawal = int(input(\"\\nEnter the amount you wish to wishdraw: \"))\n",
    "            customer.withdraw(withdrawal)\n",
    "        elif tx == 3:\n",
    "            customer.fast_cash()\n",
    "        elif tx == 4:\n",
    "            dest_acc = input(\"\\nEnter the destination bank account: \")\n",
    "            transfer = int(input(\"Enter the amount you wish to transfer: \"))\n",
    "            customer.transfer(dest_acc, transfer)\n",
    "        elif tx == 5:\n",
    "            customer.change_PIN()\n",
    "        elif tx == 6:\n",
    "            print(\"\\nAccount Settings\")\n",
    "            print(\"(1) Change Account Name      (2) Balance Inquiry\")\n",
    "            acc_set = int(input(\"Enter the number (1-2): \"))\n",
    "            if acc_set == 1:\n",
    "                new_name = input(\"\\nPlease enter a new account name: \")\n",
    "                customer.change_acc_name(new_name)\n",
    "            elif acc_set == 2:\n",
    "                customer.balance_inquiry()\n",
    "            else:\n",
    "                print(f'\\n{acc_set} is an invalid number. Please try again...')\n",
    "        else:\n",
    "            print(f'\\n{tx} is an invalid number. Please try again...')"
   ],
   "execution_count":6,
   "outputs":[
    {
     "name":"stdout",
     "text":[
      "Welcome!\n",
      "Please insert your card\n",
      "\n",
      "Please enter PIN:  1234\n",
      "Incorrect PIN\n",
      "You have 2 retries left.\n",
      "\n",
      "Please enter PIN:  123456\n",
      "Please select transaction\n",
      "(1) Deposit      (2) Withdrawal\n",
      "(3) Fast Cash    (4) Transfer\n",
      "(5) PIN Change   (6) Account Settings\n",
      "Enter the transaction number (1-6):  6\n",
      "\n",
      "Account Settings\n",
      "(1) Change Account Name      (2) Balance Inquiry\n",
      "Enter the number (1-2):  2\n",
      "\n",
      "Account: Natthaphong, Balance: 500 Baht\n"
     ],
     "output_type":"stream"
    }
   ],
   "metadata":{
    "datalore":{
     "node_id":"dOGT7v3B06vc3ALp9BjWMj",
     "type":"CODE",
     "hide_input_from_viewers":true,
     "hide_output_from_viewers":true
    }
   }
  }
 ],
 "metadata":{
  "kernelspec":{
   "display_name":"Python",
   "language":"python",
   "name":"python"
  },
  "datalore":{
   "computation_mode":"JUPYTER",
   "package_manager":"pip",
   "base_environment":"default",
   "packages":[
    
   ],
   "report_row_ids":[
    
   ],
   "version":3
  }
 },
 "nbformat":4,
 "nbformat_minor":4
}